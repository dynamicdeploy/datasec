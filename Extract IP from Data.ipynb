{
 "cells": [
  {
   "cell_type": "markdown",
   "metadata": {},
   "source": [
    "## Extract IP Address using regex"
   ]
  },
  {
   "cell_type": "code",
   "execution_count": 44,
   "metadata": {},
   "outputs": [
    {
     "name": "stdout",
     "output_type": "stream",
     "text": [
      "IP address found:\n",
      "192.168.0.1\n",
      "at position (19, 30)\n"
     ]
    }
   ],
   "source": [
    "import re\n",
    "ip = re.compile('(([2][5][0-5]\\.)|([2][0-4][0-9]\\.)|([0-1]?[0-9]?[0-9]\\.)){3}'\n",
    "                +'(([2][5][0-5])|([2][0-4][0-9])|([0-1]?[0-9]?[0-9]))')\n",
    "\n",
    "match = ip.search(\"Your ip address is 192.168.0.1, have fun! and 192.168.0.2\")\n",
    "if match:\n",
    " print ('IP address found:'),\n",
    " print (match.group()) # matching substring\n",
    " print ('at position',match.span()) # indexes of the substring found\n",
    "else:\n",
    " print ('IP address not found')"
   ]
  },
  {
   "cell_type": "code",
   "execution_count": 45,
   "metadata": {},
   "outputs": [
    {
     "name": "stdout",
     "output_type": "stream",
     "text": [
      "('0.', '0', '', '', '168', '0', '1', '1', '', '', '', '1')\n",
      "('0.', '0', '', '', '168', '0', '2', '2', '', '', '', '2')\n"
     ]
    }
   ],
   "source": [
    "import re\n",
    "ip = re.compile('(((25[0-5])|(2[0-4]\\d)|(1\\d{2})|(\\d{1,2}))\\.){3}(((25[0-5])|(2[0-4]\\d)|(1\\d{2})|(\\d{1,2})))')\n",
    "\n",
    "matches = ip.findall(\"Your ip address is 192.168.0.1, have fun! and 192.168.0.2\")\n",
    "for m in matches:\n",
    "    print(m)"
   ]
  },
  {
   "cell_type": "code",
   "execution_count": 46,
   "metadata": {},
   "outputs": [
    {
     "name": "stdout",
     "output_type": "stream",
     "text": [
      "alice@google.com\n",
      "bob@abc.com\n"
     ]
    }
   ],
   "source": [
    "## Suppose we have a text with many email addresses\n",
    "str = 'purple alice@google.com, blah monkey bob@abc.com blah dishwasher'\n",
    "\n",
    "  ## Here re.findall() returns a list of all the found email strings\n",
    "emails = re.findall(r'[\\w\\.-]+@[\\w\\.-]+', str) ## ['alice@google.com', 'bob@abc.com']\n",
    "for email in emails:\n",
    "    # do something with each found email string\n",
    "    print (email)"
   ]
  },
  {
   "cell_type": "code",
   "execution_count": 47,
   "metadata": {},
   "outputs": [
    {
     "name": "stdout",
     "output_type": "stream",
     "text": [
      "07-16: carefully\n",
      "40-47: quickly\n"
     ]
    }
   ],
   "source": [
    "import re\n",
    "ip = re.compile('\\w+ly')\n",
    "text=\"He was carefully disguised but captured quickly by police.\"\n",
    "for m in ip.finditer(text):\n",
    "    print('%02d-%02d: %s' % (m.start(), m.end(), m.group(0)))"
   ]
  },
  {
   "cell_type": "code",
   "execution_count": 42,
   "metadata": {},
   "outputs": [
    {
     "name": "stdout",
     "output_type": "stream",
     "text": [
      "19-30: 192.168.0.1\n",
      "46-57: 192.168.0.2\n"
     ]
    }
   ],
   "source": [
    "import re\n",
    "ip = re.compile('((((25[0-5])|(2[0-4]\\d)|(1\\d{2})|(\\d{1,2}))\\.){3}(((25[0-5])|(2[0-4]\\d)|(1\\d{2})|(\\d{1,2}))))')\n",
    "text=\"Your ip address is 192.168.0.1, have fun! and 192.168.0.2\"\n",
    "for m in ip.finditer(text):\n",
    "    print('%02d-%02d: %s' % (m.start(), m.end(), m.group(0)))"
   ]
  },
  {
   "cell_type": "code",
   "execution_count": 49,
   "metadata": {},
   "outputs": [
    {
     "name": "stdout",
     "output_type": "stream",
     "text": [
      "19-30: 192.168.0.1\n",
      "46-57: 192.168.0.2\n"
     ]
    }
   ],
   "source": [
    "import re\n",
    "ip = re.compile('((((25[0-5])|(2[0-4]\\d)|(1\\d{2})|(\\d{1,2}))\\.){3}(((25[0-5])|(2[0-4]\\d)|(1\\d{2})|(\\d{1,2}))))')\n",
    "\n",
    "def matchips(text):\n",
    "    for m in ip.finditer(text):\n",
    "        print('%02d-%02d: %s' % (m.start(), m.end(), m.group(0)))\n",
    "\n",
    "text=\"Your ip address is 192.168.0.1, have fun! and 192.168.0.2\"\n",
    "matchips(text)"
   ]
  },
  {
   "cell_type": "code",
   "execution_count": 78,
   "metadata": {},
   "outputs": [
    {
     "name": "stdout",
     "output_type": "stream",
     "text": [
      "19-30: 192.168.0.1\n",
      "46-57: 192.168.0.2\n",
      "58-65: 0.0.0.0\n"
     ]
    }
   ],
   "source": [
    "import re\n",
    "ip = re.compile('((((25[0-5])|(2[0-4]\\d)|(1\\d{2})|(\\d{1,2}))\\.){3}(((25[0-5])|(2[0-4]\\d)|(1\\d{2})|(\\d{1,2}))))')\n",
    "\n",
    "class RegexMatch:\n",
    "\n",
    "  def __init__(self):\n",
    "    self.start = 0\n",
    "    self.end = 0\n",
    "    self.matchingtext = ''\n",
    "    \n",
    "  def __init__(self, start, end, matchingtext):\n",
    "    self.start = start\n",
    "    self.end = end\n",
    "    self.matchingtext = matchingtext\n",
    "    \n",
    "def get_matches(text, compiledregex):\n",
    "    matches = []\n",
    "    for m in compiledregex.finditer(text):\n",
    "        ipmatch = RegexMatch(m.start(), m.end(), m.group(0))\n",
    "        #ipmatch.start = m.start()\n",
    "       # ipmatch.end = m.end()\n",
    "       # ipmatch.matchingtext = m.group(0)\n",
    "        matches.append(ipmatch)\n",
    "        #print('%02d-%02d: %s' % (m.start(), m.end(), m.group(0)))\n",
    "    return matches\n",
    "text=\"Your ip address is 192.168.0.1, have fun! and 192.168.0.2 0.0.0.0\"\n",
    "allmatches = get_matches(text,ip)\n",
    "for a in allmatches:\n",
    "    print('%02d-%02d: %s' % (a.start, a.end, a.matchingtext))\n",
    "\n"
   ]
  },
  {
   "cell_type": "code",
   "execution_count": 82,
   "metadata": {},
   "outputs": [
    {
     "name": "stdout",
     "output_type": "stream",
     "text": [
      "match 10.101.0.11\n",
      "not match 011.101.232.111\n",
      "not match 01.01.01.01\n",
      "not match 000.000.000.000\n",
      "not match 00.00.00.00\n",
      "not match 0.0.0.0\n",
      "not match 011.022.022.011\n"
     ]
    }
   ],
   "source": [
    "# this is correction to https://stackoverflow.com/a/39136481\n",
    "# Following is python\n",
    "#usable ips\n",
    "import re\n",
    "\n",
    "ip_list = ['10.101.0.11','011.101.232.111', '01.01.01.01','000.000.000.000','00.00.00.00','0.0.0.0','011.022.022.011']\n",
    "ipv4_regex = r'^(25[0-5]|2[0-4][0-9]|[1-2]{1}[0-9]{2}|[1-9]{1}[0-9]{1}|[1-9])\\.(25[0-5]|2[0-4][0-9]|[1-2]{1}[0-9]{2}|[1-9]{1}[0-9]{1}|[1-9]|0)\\.(25[0-5]|2[0-4][0-9]|[1-2]{1}[0-9]{2}|[1-9]{1}[0-9]{1}|[1-9]|0)\\.(25[0-5]|2[0-4][0-9]|[1-2]{1}[0-9]{2}|[1-9]{1}[0-9]{1}|[0-9])$'\n",
    "usable_ip = re.compile(ipv4_regex)\n",
    "\n",
    "for i in ip_list:\n",
    "    resp = re.match(ipv4_regex, i)\n",
    "    print ('match', i) if resp else print(\"not match\", i)\n",
    "    \n"
   ]
  },
  {
   "cell_type": "code",
   "execution_count": 71,
   "metadata": {},
   "outputs": [
    {
     "name": "stdout",
     "output_type": "stream",
     "text": [
      "11-35: shubhamg199630@gmail.com\n",
      "39-54: priya@yahoo.com\n",
      "88-110: jamie1234@yahoo123.com\n"
     ]
    }
   ],
   "source": [
    "#extract email\n",
    "import re \n",
    "\n",
    "pattern = '[\\w\\.-]+@[\\w\\.-]+'\n",
    "#pattern = '\\S+@\\S+'\n",
    "# \\S matches any non-whitespace character\n",
    "# @ for as in the Email\n",
    "# + for Repeats a character one or more times\n",
    "email = re.compile(pattern)\n",
    " \n",
    "# Example string \n",
    "text = 'Hello from shubhamg199630@gmail.com to priya@yahoo.com about the meeting @2PM also call jamie1234@yahoo123.com'\n",
    "\n",
    "allmatches = get_matches(text,email)\n",
    "for a in allmatches:\n",
    "    print('%02d-%02d: %s' % (a.start, a.end, a.matchingtext))"
   ]
  },
  {
   "cell_type": "code",
   "execution_count": 73,
   "metadata": {},
   "outputs": [
    {
     "name": "stdout",
     "output_type": "stream",
     "text": [
      "32-43: 428-34-4566\n",
      "45-56: 428-34-4566\n",
      "59-70: 428-34-4545\n"
     ]
    }
   ],
   "source": [
    "pattern = \"\\d{9}|\\d{3}-\\d{2}-\\d{4}\"\n",
    "ssn = re.compile(pattern)\n",
    "\n",
    "text = 'Hello Here are the SSNs to hack 428-34-4566, 428-34-4566 , 428-34-4545'\n",
    "allmatches = get_matches(text,ssn)\n",
    "for a in allmatches:\n",
    "    print('%02d-%02d: %s' % (a.start, a.end, a.matchingtext))"
   ]
  },
  {
   "cell_type": "code",
   "execution_count": 74,
   "metadata": {},
   "outputs": [
    {
     "name": "stdout",
     "output_type": "stream",
     "text": [
      "32-50: http://www.abc.com\n",
      "52-66: http://abc.edu\n",
      "67-87: http://www.123abc.io\n"
     ]
    }
   ],
   "source": [
    "pattern = \"((ht|f)tp(s?)\\:\\/\\/|~/|/)?([\\w]([\\w\\-]+\\.)+([\\w]{2,63}))(:[\\d]{1,5})?\"\n",
    "url = re.compile(pattern)\n",
    "\n",
    "text = 'Hello Here are the URLs to hack http://www.abc.com, http://abc.edu http://www.123abc.io'\n",
    "allmatches = get_matches(text,url)\n",
    "for a in allmatches:\n",
    "    print('%02d-%02d: %s' % (a.start, a.end, a.matchingtext))"
   ]
  },
  {
   "cell_type": "code",
   "execution_count": 90,
   "metadata": {},
   "outputs": [
    {
     "name": "stdout",
     "output_type": "stream",
     "text": [
      "32-71: FE80:0000:0000:0000:0202:B3FF:FE1E:8329\n",
      "73-98: FE80::0202:B3FF:FE1E:8329\n",
      "118-129: 2001:db8::1\n"
     ]
    }
   ],
   "source": [
    "pattern = \"s*((([0-9A-Fa-f]{1,4}:){7}([0-9A-Fa-f]{1,4}|:))|(([0-9A-Fa-f]{1,4}:){6}(:[0-9A-Fa-f]{1,4}|((25[0-5]|2[0-4]d|1dd|[1-9]?d)(.(25[0-5]|2[0-4]d|1dd|[1-9]?d)){3})|:))|(([0-9A-Fa-f]{1,4}:){5}(((:[0-9A-Fa-f]{1,4}){1,2})|:((25[0-5]|2[0-4]d|1dd|[1-9]?d)(.(25[0-5]|2[0-4]d|1dd|[1-9]?d)){3})|:))|(([0-9A-Fa-f]{1,4}:){4}(((:[0-9A-Fa-f]{1,4}){1,3})|((:[0-9A-Fa-f]{1,4})?:((25[0-5]|2[0-4]d|1dd|[1-9]?d)(.(25[0-5]|2[0-4]d|1dd|[1-9]?d)){3}))|:))|(([0-9A-Fa-f]{1,4}:){3}(((:[0-9A-Fa-f]{1,4}){1,4})|((:[0-9A-Fa-f]{1,4}){0,2}:((25[0-5]|2[0-4]d|1dd|[1-9]?d)(.(25[0-5]|2[0-4]d|1dd|[1-9]?d)){3}))|:))|(([0-9A-Fa-f]{1,4}:){2}(((:[0-9A-Fa-f]{1,4}){1,5})|((:[0-9A-Fa-f]{1,4}){0,3}:((25[0-5]|2[0-4]d|1dd|[1-9]?d)(.(25[0-5]|2[0-4]d|1dd|[1-9]?d)){3}))|:))|(([0-9A-Fa-f]{1,4}:){1}(((:[0-9A-Fa-f]{1,4}){1,6})|((:[0-9A-Fa-f]{1,4}){0,4}:((25[0-5]|2[0-4]d|1dd|[1-9]?d)(.(25[0-5]|2[0-4]d|1dd|[1-9]?d)){3}))|:))|(:(((:[0-9A-Fa-f]{1,4}){1,7})|((:[0-9A-Fa-f]{1,4}){0,5}:((25[0-5]|2[0-4]d|1dd|[1-9]?d)(.(25[0-5]|2[0-4]d|1dd|[1-9]?d)){3}))|:)))(%.+)?s*\"\n",
    "ipv6 = re.compile(pattern)\n",
    "\n",
    "text = 'Hello Here are the IPV6 to hack FE80:0000:0000:0000:0202:B3FF:FE1E:8329, FE80::0202:B3FF:FE1E:8329 [2001:db8:0:1]:80 [2001:db8::1]:80 http://[2001:db8:0:1]:80'\n",
    "allmatches = get_matches(text,ipv6)\n",
    "for a in allmatches:\n",
    "    print('%02d-%02d: %s' % (a.start, a.end, a.matchingtext))"
   ]
  },
  {
   "cell_type": "markdown",
   "metadata": {},
   "source": [
    "## Credit Cards"
   ]
  },
  {
   "cell_type": "code",
   "execution_count": 91,
   "metadata": {},
   "outputs": [
    {
     "name": "stdout",
     "output_type": "stream",
     "text": [
      "40-56: 4242424242424242\n",
      "57-73: 4003600000000006\n",
      "74-90: 4003600000000014\n",
      "91-107: 4900000000000086\n",
      "108-124: 4900000000000003\n"
     ]
    }
   ],
   "source": [
    "pattern = '4[0-9]{12}(?:[0-9]{3})?'\n",
    "visa = re.compile(pattern)\n",
    "\n",
    "text = 'Hello Here are the credit cards to hack 4242424242424242 4003600000000006 4003600000000014 4900000000000086 4900000000000003 5100000000000016'\n",
    "allmatches = get_matches(text,visa)\n",
    "for a in allmatches:\n",
    "    print('%02d-%02d: %s' % (a.start, a.end, a.matchingtext))"
   ]
  },
  {
   "cell_type": "code",
   "execution_count": 92,
   "metadata": {},
   "outputs": [
    {
     "name": "stdout",
     "output_type": "stream",
     "text": [
      "40-55: 375811111111115\n",
      "56-71: 375000000000007\n",
      "72-87: 375811111111123\n"
     ]
    }
   ],
   "source": [
    "pattern = '3[47][0-9]{13}'\n",
    "amex = re.compile(pattern)\n",
    "\n",
    "text = 'Hello Here are the credit cards to hack 375811111111115 375000000000007 375811111111123 36168002586009 36167719110012 5100000000000016'\n",
    "allmatches = get_matches(text,amex)\n",
    "for a in allmatches:\n",
    "    print('%02d-%02d: %s' % (a.start, a.end, a.matchingtext))"
   ]
  },
  {
   "cell_type": "code",
   "execution_count": null,
   "metadata": {},
   "outputs": [],
   "source": []
  }
 ],
 "metadata": {
  "kernelspec": {
   "display_name": "Python 3",
   "language": "python",
   "name": "python3"
  },
  "language_info": {
   "codemirror_mode": {
    "name": "ipython",
    "version": 3
   },
   "file_extension": ".py",
   "mimetype": "text/x-python",
   "name": "python",
   "nbconvert_exporter": "python",
   "pygments_lexer": "ipython3",
   "version": "3.6.6"
  }
 },
 "nbformat": 4,
 "nbformat_minor": 2
}
