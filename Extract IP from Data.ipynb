{
 "cells": [
  {
   "cell_type": "markdown",
   "metadata": {},
   "source": [
    "## Extract IP Address using regex"
   ]
  },
  {
   "cell_type": "code",
   "execution_count": 44,
   "metadata": {},
   "outputs": [
    {
     "name": "stdout",
     "output_type": "stream",
     "text": [
      "IP address found:\n",
      "192.168.0.1\n",
      "at position (19, 30)\n"
     ]
    }
   ],
   "source": [
    "import re\n",
    "ip = re.compile('(([2][5][0-5]\\.)|([2][0-4][0-9]\\.)|([0-1]?[0-9]?[0-9]\\.)){3}'\n",
    "                +'(([2][5][0-5])|([2][0-4][0-9])|([0-1]?[0-9]?[0-9]))')\n",
    "\n",
    "match = ip.search(\"Your ip address is 192.168.0.1, have fun! and 192.168.0.2\")\n",
    "if match:\n",
    " print ('IP address found:'),\n",
    " print (match.group()) # matching substring\n",
    " print ('at position',match.span()) # indexes of the substring found\n",
    "else:\n",
    " print ('IP address not found')"
   ]
  },
  {
   "cell_type": "code",
   "execution_count": 45,
   "metadata": {},
   "outputs": [
    {
     "name": "stdout",
     "output_type": "stream",
     "text": [
      "('0.', '0', '', '', '168', '0', '1', '1', '', '', '', '1')\n",
      "('0.', '0', '', '', '168', '0', '2', '2', '', '', '', '2')\n"
     ]
    }
   ],
   "source": [
    "import re\n",
    "ip = re.compile('(((25[0-5])|(2[0-4]\\d)|(1\\d{2})|(\\d{1,2}))\\.){3}(((25[0-5])|(2[0-4]\\d)|(1\\d{2})|(\\d{1,2})))')\n",
    "\n",
    "matches = ip.findall(\"Your ip address is 192.168.0.1, have fun! and 192.168.0.2\")\n",
    "for m in matches:\n",
    "    print(m)"
   ]
  },
  {
   "cell_type": "code",
   "execution_count": 46,
   "metadata": {},
   "outputs": [
    {
     "name": "stdout",
     "output_type": "stream",
     "text": [
      "alice@google.com\n",
      "bob@abc.com\n"
     ]
    }
   ],
   "source": [
    "## Suppose we have a text with many email addresses\n",
    "str = 'purple alice@google.com, blah monkey bob@abc.com blah dishwasher'\n",
    "\n",
    "  ## Here re.findall() returns a list of all the found email strings\n",
    "emails = re.findall(r'[\\w\\.-]+@[\\w\\.-]+', str) ## ['alice@google.com', 'bob@abc.com']\n",
    "for email in emails:\n",
    "    # do something with each found email string\n",
    "    print (email)"
   ]
  },
  {
   "cell_type": "code",
   "execution_count": 47,
   "metadata": {},
   "outputs": [
    {
     "name": "stdout",
     "output_type": "stream",
     "text": [
      "07-16: carefully\n",
      "40-47: quickly\n"
     ]
    }
   ],
   "source": [
    "import re\n",
    "ip = re.compile('\\w+ly')\n",
    "text=\"He was carefully disguised but captured quickly by police.\"\n",
    "for m in ip.finditer(text):\n",
    "    print('%02d-%02d: %s' % (m.start(), m.end(), m.group(0)))"
   ]
  },
  {
   "cell_type": "code",
   "execution_count": 42,
   "metadata": {},
   "outputs": [
    {
     "name": "stdout",
     "output_type": "stream",
     "text": [
      "19-30: 192.168.0.1\n",
      "46-57: 192.168.0.2\n"
     ]
    }
   ],
   "source": [
    "import re\n",
    "ip = re.compile('((((25[0-5])|(2[0-4]\\d)|(1\\d{2})|(\\d{1,2}))\\.){3}(((25[0-5])|(2[0-4]\\d)|(1\\d{2})|(\\d{1,2}))))')\n",
    "text=\"Your ip address is 192.168.0.1, have fun! and 192.168.0.2\"\n",
    "for m in ip.finditer(text):\n",
    "    print('%02d-%02d: %s' % (m.start(), m.end(), m.group(0)))"
   ]
  },
  {
   "cell_type": "code",
   "execution_count": 49,
   "metadata": {},
   "outputs": [
    {
     "name": "stdout",
     "output_type": "stream",
     "text": [
      "19-30: 192.168.0.1\n",
      "46-57: 192.168.0.2\n"
     ]
    }
   ],
   "source": [
    "import re\n",
    "ip = re.compile('((((25[0-5])|(2[0-4]\\d)|(1\\d{2})|(\\d{1,2}))\\.){3}(((25[0-5])|(2[0-4]\\d)|(1\\d{2})|(\\d{1,2}))))')\n",
    "\n",
    "def matchips(text):\n",
    "    for m in ip.finditer(text):\n",
    "        print('%02d-%02d: %s' % (m.start(), m.end(), m.group(0)))\n",
    "\n",
    "text=\"Your ip address is 192.168.0.1, have fun! and 192.168.0.2\"\n",
    "matchips(text)"
   ]
  },
  {
   "cell_type": "code",
   "execution_count": 54,
   "metadata": {},
   "outputs": [
    {
     "name": "stdout",
     "output_type": "stream",
     "text": [
      "19-30: 192.168.0.1\n",
      "46-57: 192.168.0.2\n"
     ]
    }
   ],
   "source": [
    "import re\n",
    "ip = re.compile('((((25[0-5])|(2[0-4]\\d)|(1\\d{2})|(\\d{1,2}))\\.){3}(((25[0-5])|(2[0-4]\\d)|(1\\d{2})|(\\d{1,2}))))')\n",
    "\n",
    "class IPMatch:\n",
    "\n",
    "  def __init__(self):\n",
    "    self.start = 0\n",
    "    self.end = 0\n",
    "    self.matchingtext = ''\n",
    "    \n",
    "  def __init__(self, start, end, matchingtext):\n",
    "    self.start = start\n",
    "    self.end = end\n",
    "    self.matchingtext = matchingtext\n",
    "    \n",
    "def matchips(text):\n",
    "    matches = []\n",
    "    for m in ip.finditer(text):\n",
    "        ipmatch = IPMatch(m.start(), m.end(), m.group(0))\n",
    "        #ipmatch.start = m.start()\n",
    "       # ipmatch.end = m.end()\n",
    "       # ipmatch.matchingtext = m.group(0)\n",
    "        matches.append(ipmatch)\n",
    "        #print('%02d-%02d: %s' % (m.start(), m.end(), m.group(0)))\n",
    "    return matches\n",
    "text=\"Your ip address is 192.168.0.1, have fun! and 192.168.0.2\"\n",
    "allmatches = matchips(text)\n",
    "for a in allmatches:\n",
    "    print('%02d-%02d: %s' % (a.start, a.end, a.matchingtext))"
   ]
  },
  {
   "cell_type": "code",
   "execution_count": null,
   "metadata": {},
   "outputs": [],
   "source": []
  }
 ],
 "metadata": {
  "kernelspec": {
   "display_name": "Python 3",
   "language": "python",
   "name": "python3"
  },
  "language_info": {
   "codemirror_mode": {
    "name": "ipython",
    "version": 3
   },
   "file_extension": ".py",
   "mimetype": "text/x-python",
   "name": "python",
   "nbconvert_exporter": "python",
   "pygments_lexer": "ipython3",
   "version": "3.6.6"
  }
 },
 "nbformat": 4,
 "nbformat_minor": 2
}
