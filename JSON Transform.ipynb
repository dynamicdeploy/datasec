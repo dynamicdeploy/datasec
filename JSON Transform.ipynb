{
 "cells": [
  {
   "cell_type": "markdown",
   "metadata": {},
   "source": [
    "# Encode Decode JSON objects"
   ]
  },
  {
   "cell_type": "markdown",
   "metadata": {},
   "source": [
    "## Convert JSON to Python Object (Dict)"
   ]
  },
  {
   "cell_type": "code",
   "execution_count": 2,
   "metadata": {},
   "outputs": [
    {
     "name": "stdout",
     "output_type": "stream",
     "text": [
      "Brian\n",
      "Seattle\n"
     ]
    }
   ],
   "source": [
    "import json\n",
    " \n",
    "json_data = '{\"name\": \"Brian\", \"city\": \"Seattle\"}'\n",
    "python_obj = json.loads(json_data)\n",
    "print (python_obj[\"name\"])\n",
    "print (python_obj[\"city\"])"
   ]
  },
  {
   "cell_type": "markdown",
   "metadata": {},
   "source": [
    "## Convert JSON to Python Object (List)"
   ]
  },
  {
   "cell_type": "code",
   "execution_count": 3,
   "metadata": {},
   "outputs": [
    {
     "name": "stdout",
     "output_type": "stream",
     "text": [
      "coffee\n",
      "tea\n",
      "water\n",
      "scotch\n",
      "soda\n"
     ]
    }
   ],
   "source": [
    "import json\n",
    " \n",
    "array = '{\"drinks\": [\"coffee\", \"tea\", \"water\", \"scotch\", \"soda\"]}'\n",
    "data = json.loads(array)\n",
    " \n",
    "for element in data['drinks']:\n",
    "    print (element)"
   ]
  },
  {
   "cell_type": "markdown",
   "metadata": {},
   "source": [
    "## Convert JSON to Python Object (float)"
   ]
  },
  {
   "cell_type": "code",
   "execution_count": 6,
   "metadata": {},
   "outputs": [
    {
     "name": "stdout",
     "output_type": "stream",
     "text": [
      "1.573937639\n"
     ]
    }
   ],
   "source": [
    "import json\n",
    "from decimal import Decimal\n",
    " \n",
    "jsondata = '{\"number\": 1.573937639, \"number2\": 1.2}'\n",
    " \n",
    "x = json.loads(jsondata, parse_float=Decimal)\n",
    "print (x['number'])"
   ]
  },
  {
   "cell_type": "markdown",
   "metadata": {},
   "source": [
    "## Convert multiple JSON objects to Python Objects"
   ]
  },
  {
   "cell_type": "code",
   "execution_count": 7,
   "metadata": {},
   "outputs": [
    {
     "name": "stdout",
     "output_type": "stream",
     "text": [
      "Brian\n",
      "David\n"
     ]
    }
   ],
   "source": [
    "import json\n",
    " \n",
    "json_input = '{\"persons\": [{\"name\": \"Brian\", \"city\": \"Seattle\"}, {\"name\": \"David\", \"city\": \"Amsterdam\"} ] }'\n",
    " \n",
    "try:\n",
    "    decoded = json.loads(json_input)\n",
    " \n",
    "    # Access data\n",
    "    for x in decoded['persons']:\n",
    "        print (x['name'])\n",
    "except (ValueError, KeyError, TypeError):\n",
    "    print (\"JSON format error\")"
   ]
  },
  {
   "cell_type": "markdown",
   "metadata": {},
   "source": [
    "## Convert Python Object (Dict) to JSON"
   ]
  },
  {
   "cell_type": "code",
   "execution_count": 9,
   "metadata": {},
   "outputs": [
    {
     "name": "stdout",
     "output_type": "stream",
     "text": [
      "{\"Name\": \"Luke\", \"Country\": \"Canada\"}\n"
     ]
    }
   ],
   "source": [
    "import json\n",
    " \n",
    "d = {}\n",
    "d[\"Name\"] = \"Luke\"\n",
    "d[\"Country\"] = \"Canada\"\n",
    " \n",
    "print (json.dumps(d, ensure_ascii=False))"
   ]
  },
  {
   "cell_type": "code",
   "execution_count": 10,
   "metadata": {},
   "outputs": [
    {
     "name": "stdout",
     "output_type": "stream",
     "text": [
      "{\n",
      "    \"city\": \"Seattle\",\n",
      "    \"name\": \"Brian\"\n",
      "}\n"
     ]
    }
   ],
   "source": [
    "import json\n",
    " \n",
    "json_data = '{\"name\": \"Brian\", \"city\": \"Seattle\"}'\n",
    "python_obj = json.loads(json_data)\n",
    "print (json.dumps(python_obj, sort_keys=True, indent=4))"
   ]
  },
  {
   "cell_type": "markdown",
   "metadata": {},
   "source": [
    "## JSON to Python Types"
   ]
  },
  {
   "cell_type": "code",
   "execution_count": 13,
   "metadata": {},
   "outputs": [
    {
     "name": "stdout",
     "output_type": "stream",
     "text": [
      "<class 'dict'>\n",
      "<class 'str'>\n",
      "{\n",
      "    \"Country\": \"Canada\",\n",
      "    \"Name\": \"Luke\"\n",
      "}\n"
     ]
    }
   ],
   "source": [
    "import json\n",
    "\n",
    "#Dictionary to JSON Object\n",
    "d = {}\n",
    "d[\"Name\"] = \"Luke\"\n",
    "d[\"Country\"] = \"Canada\"\n",
    "print(type(d))\n",
    "j = json.dumps(d, sort_keys=True, indent=4)\n",
    "print (type(j))\n",
    "print(j)"
   ]
  },
  {
   "cell_type": "code",
   "execution_count": 16,
   "metadata": {},
   "outputs": [
    {
     "name": "stdout",
     "output_type": "stream",
     "text": [
      "<class 'list'>\n",
      "<class 'str'>\n",
      "[\n",
      "    \"a\",\n",
      "    \"b\",\n",
      "    \"c\",\n",
      "    \"d\",\n",
      "    \"e\"\n",
      "]\n"
     ]
    }
   ],
   "source": [
    "import json\n",
    "#List to JSON array\n",
    "lst=['a', 'b','c','d','e']\n",
    "print(type(lst))\n",
    "j = json.dumps(lst, sort_keys=True, indent=4)\n",
    "print (type(j))\n",
    "print(j)"
   ]
  },
  {
   "cell_type": "code",
   "execution_count": 17,
   "metadata": {},
   "outputs": [
    {
     "name": "stdout",
     "output_type": "stream",
     "text": [
      "<class 'set'>\n"
     ]
    },
    {
     "ename": "TypeError",
     "evalue": "Object of type 'set' is not JSON serializable",
     "output_type": "error",
     "traceback": [
      "\u001b[0;31m---------------------------------------------------------------------------\u001b[0m",
      "\u001b[0;31mTypeError\u001b[0m                                 Traceback (most recent call last)",
      "\u001b[0;32m<ipython-input-17-b680ed8b3d2e>\u001b[0m in \u001b[0;36m<module>\u001b[0;34m()\u001b[0m\n\u001b[1;32m      3\u001b[0m \u001b[0mlst\u001b[0m\u001b[0;34m=\u001b[0m\u001b[0;34m{\u001b[0m\u001b[0;34m'a'\u001b[0m\u001b[0;34m,\u001b[0m \u001b[0;34m'b'\u001b[0m\u001b[0;34m,\u001b[0m\u001b[0;34m'c'\u001b[0m\u001b[0;34m,\u001b[0m\u001b[0;34m'd'\u001b[0m\u001b[0;34m,\u001b[0m\u001b[0;34m'e'\u001b[0m\u001b[0;34m}\u001b[0m\u001b[0;34m\u001b[0m\u001b[0m\n\u001b[1;32m      4\u001b[0m \u001b[0mprint\u001b[0m\u001b[0;34m(\u001b[0m\u001b[0mtype\u001b[0m\u001b[0;34m(\u001b[0m\u001b[0mlst\u001b[0m\u001b[0;34m)\u001b[0m\u001b[0;34m)\u001b[0m\u001b[0;34m\u001b[0m\u001b[0m\n\u001b[0;32m----> 5\u001b[0;31m \u001b[0mj\u001b[0m \u001b[0;34m=\u001b[0m \u001b[0mjson\u001b[0m\u001b[0;34m.\u001b[0m\u001b[0mdumps\u001b[0m\u001b[0;34m(\u001b[0m\u001b[0mlst\u001b[0m\u001b[0;34m,\u001b[0m \u001b[0msort_keys\u001b[0m\u001b[0;34m=\u001b[0m\u001b[0;32mTrue\u001b[0m\u001b[0;34m,\u001b[0m \u001b[0mindent\u001b[0m\u001b[0;34m=\u001b[0m\u001b[0;36m4\u001b[0m\u001b[0;34m)\u001b[0m\u001b[0;34m\u001b[0m\u001b[0m\n\u001b[0m\u001b[1;32m      6\u001b[0m \u001b[0mprint\u001b[0m \u001b[0;34m(\u001b[0m\u001b[0mtype\u001b[0m\u001b[0;34m(\u001b[0m\u001b[0mj\u001b[0m\u001b[0;34m)\u001b[0m\u001b[0;34m)\u001b[0m\u001b[0;34m\u001b[0m\u001b[0m\n\u001b[1;32m      7\u001b[0m \u001b[0mprint\u001b[0m\u001b[0;34m(\u001b[0m\u001b[0mj\u001b[0m\u001b[0;34m)\u001b[0m\u001b[0;34m\u001b[0m\u001b[0m\n",
      "\u001b[0;32m~/anaconda3/lib/python3.6/json/__init__.py\u001b[0m in \u001b[0;36mdumps\u001b[0;34m(obj, skipkeys, ensure_ascii, check_circular, allow_nan, cls, indent, separators, default, sort_keys, **kw)\u001b[0m\n\u001b[1;32m    236\u001b[0m         \u001b[0mcheck_circular\u001b[0m\u001b[0;34m=\u001b[0m\u001b[0mcheck_circular\u001b[0m\u001b[0;34m,\u001b[0m \u001b[0mallow_nan\u001b[0m\u001b[0;34m=\u001b[0m\u001b[0mallow_nan\u001b[0m\u001b[0;34m,\u001b[0m \u001b[0mindent\u001b[0m\u001b[0;34m=\u001b[0m\u001b[0mindent\u001b[0m\u001b[0;34m,\u001b[0m\u001b[0;34m\u001b[0m\u001b[0m\n\u001b[1;32m    237\u001b[0m         \u001b[0mseparators\u001b[0m\u001b[0;34m=\u001b[0m\u001b[0mseparators\u001b[0m\u001b[0;34m,\u001b[0m \u001b[0mdefault\u001b[0m\u001b[0;34m=\u001b[0m\u001b[0mdefault\u001b[0m\u001b[0;34m,\u001b[0m \u001b[0msort_keys\u001b[0m\u001b[0;34m=\u001b[0m\u001b[0msort_keys\u001b[0m\u001b[0;34m,\u001b[0m\u001b[0;34m\u001b[0m\u001b[0m\n\u001b[0;32m--> 238\u001b[0;31m         **kw).encode(obj)\n\u001b[0m\u001b[1;32m    239\u001b[0m \u001b[0;34m\u001b[0m\u001b[0m\n\u001b[1;32m    240\u001b[0m \u001b[0;34m\u001b[0m\u001b[0m\n",
      "\u001b[0;32m~/anaconda3/lib/python3.6/json/encoder.py\u001b[0m in \u001b[0;36mencode\u001b[0;34m(self, o)\u001b[0m\n\u001b[1;32m    199\u001b[0m         \u001b[0mchunks\u001b[0m \u001b[0;34m=\u001b[0m \u001b[0mself\u001b[0m\u001b[0;34m.\u001b[0m\u001b[0miterencode\u001b[0m\u001b[0;34m(\u001b[0m\u001b[0mo\u001b[0m\u001b[0;34m,\u001b[0m \u001b[0m_one_shot\u001b[0m\u001b[0;34m=\u001b[0m\u001b[0;32mTrue\u001b[0m\u001b[0;34m)\u001b[0m\u001b[0;34m\u001b[0m\u001b[0m\n\u001b[1;32m    200\u001b[0m         \u001b[0;32mif\u001b[0m \u001b[0;32mnot\u001b[0m \u001b[0misinstance\u001b[0m\u001b[0;34m(\u001b[0m\u001b[0mchunks\u001b[0m\u001b[0;34m,\u001b[0m \u001b[0;34m(\u001b[0m\u001b[0mlist\u001b[0m\u001b[0;34m,\u001b[0m \u001b[0mtuple\u001b[0m\u001b[0;34m)\u001b[0m\u001b[0;34m)\u001b[0m\u001b[0;34m:\u001b[0m\u001b[0;34m\u001b[0m\u001b[0m\n\u001b[0;32m--> 201\u001b[0;31m             \u001b[0mchunks\u001b[0m \u001b[0;34m=\u001b[0m \u001b[0mlist\u001b[0m\u001b[0;34m(\u001b[0m\u001b[0mchunks\u001b[0m\u001b[0;34m)\u001b[0m\u001b[0;34m\u001b[0m\u001b[0m\n\u001b[0m\u001b[1;32m    202\u001b[0m         \u001b[0;32mreturn\u001b[0m \u001b[0;34m''\u001b[0m\u001b[0;34m.\u001b[0m\u001b[0mjoin\u001b[0m\u001b[0;34m(\u001b[0m\u001b[0mchunks\u001b[0m\u001b[0;34m)\u001b[0m\u001b[0;34m\u001b[0m\u001b[0m\n\u001b[1;32m    203\u001b[0m \u001b[0;34m\u001b[0m\u001b[0m\n",
      "\u001b[0;32m~/anaconda3/lib/python3.6/json/encoder.py\u001b[0m in \u001b[0;36m_iterencode\u001b[0;34m(o, _current_indent_level)\u001b[0m\n\u001b[1;32m    435\u001b[0m                     \u001b[0;32mraise\u001b[0m \u001b[0mValueError\u001b[0m\u001b[0;34m(\u001b[0m\u001b[0;34m\"Circular reference detected\"\u001b[0m\u001b[0;34m)\u001b[0m\u001b[0;34m\u001b[0m\u001b[0m\n\u001b[1;32m    436\u001b[0m                 \u001b[0mmarkers\u001b[0m\u001b[0;34m[\u001b[0m\u001b[0mmarkerid\u001b[0m\u001b[0;34m]\u001b[0m \u001b[0;34m=\u001b[0m \u001b[0mo\u001b[0m\u001b[0;34m\u001b[0m\u001b[0m\n\u001b[0;32m--> 437\u001b[0;31m             \u001b[0mo\u001b[0m \u001b[0;34m=\u001b[0m \u001b[0m_default\u001b[0m\u001b[0;34m(\u001b[0m\u001b[0mo\u001b[0m\u001b[0;34m)\u001b[0m\u001b[0;34m\u001b[0m\u001b[0m\n\u001b[0m\u001b[1;32m    438\u001b[0m             \u001b[0;32myield\u001b[0m \u001b[0;32mfrom\u001b[0m \u001b[0m_iterencode\u001b[0m\u001b[0;34m(\u001b[0m\u001b[0mo\u001b[0m\u001b[0;34m,\u001b[0m \u001b[0m_current_indent_level\u001b[0m\u001b[0;34m)\u001b[0m\u001b[0;34m\u001b[0m\u001b[0m\n\u001b[1;32m    439\u001b[0m             \u001b[0;32mif\u001b[0m \u001b[0mmarkers\u001b[0m \u001b[0;32mis\u001b[0m \u001b[0;32mnot\u001b[0m \u001b[0;32mNone\u001b[0m\u001b[0;34m:\u001b[0m\u001b[0;34m\u001b[0m\u001b[0m\n",
      "\u001b[0;32m~/anaconda3/lib/python3.6/json/encoder.py\u001b[0m in \u001b[0;36mdefault\u001b[0;34m(self, o)\u001b[0m\n\u001b[1;32m    178\u001b[0m         \"\"\"\n\u001b[1;32m    179\u001b[0m         raise TypeError(\"Object of type '%s' is not JSON serializable\" %\n\u001b[0;32m--> 180\u001b[0;31m                         o.__class__.__name__)\n\u001b[0m\u001b[1;32m    181\u001b[0m \u001b[0;34m\u001b[0m\u001b[0m\n\u001b[1;32m    182\u001b[0m     \u001b[0;32mdef\u001b[0m \u001b[0mencode\u001b[0m\u001b[0;34m(\u001b[0m\u001b[0mself\u001b[0m\u001b[0;34m,\u001b[0m \u001b[0mo\u001b[0m\u001b[0;34m)\u001b[0m\u001b[0;34m:\u001b[0m\u001b[0;34m\u001b[0m\u001b[0m\n",
      "\u001b[0;31mTypeError\u001b[0m: Object of type 'set' is not JSON serializable"
     ]
    }
   ],
   "source": [
    "import json\n",
    "#set cannot be serializable in JSON\n",
    "lst={'a', 'b','c','d','e'}\n",
    "print(type(lst))\n",
    "j = json.dumps(lst, sort_keys=True, indent=4)\n",
    "print (type(j))\n",
    "print(j)"
   ]
  },
  {
   "cell_type": "code",
   "execution_count": 18,
   "metadata": {},
   "outputs": [
    {
     "name": "stdout",
     "output_type": "stream",
     "text": [
      "<class 'tuple'>\n",
      "<class 'str'>\n",
      "[\n",
      "    \"a\",\n",
      "    \"b\",\n",
      "    \"c\",\n",
      "    \"d\",\n",
      "    \"e\"\n",
      "]\n"
     ]
    }
   ],
   "source": [
    "import json\n",
    "#tuple to JSON Array\n",
    "lst=('a', 'b','c','d','e')\n",
    "print(type(lst))\n",
    "j = json.dumps(lst, sort_keys=True, indent=4)\n",
    "print (type(j))\n",
    "print(j)"
   ]
  },
  {
   "cell_type": "code",
   "execution_count": 19,
   "metadata": {},
   "outputs": [
    {
     "name": "stdout",
     "output_type": "stream",
     "text": [
      "<class 'int'>\n",
      "<class 'str'>\n",
      "100\n"
     ]
    }
   ],
   "source": [
    "import json\n",
    "#int to int\n",
    "lst=100\n",
    "print(type(lst))\n",
    "j = json.dumps(lst, sort_keys=True, indent=4)\n",
    "print (type(j))\n",
    "print(j)"
   ]
  },
  {
   "cell_type": "code",
   "execution_count": 20,
   "metadata": {},
   "outputs": [
    {
     "name": "stdout",
     "output_type": "stream",
     "text": [
      "<class 'float'>\n",
      "<class 'str'>\n",
      "100.01\n"
     ]
    }
   ],
   "source": [
    "import json\n",
    "#float to float\n",
    "lst=100.01\n",
    "print(type(lst))\n",
    "j = json.dumps(lst, sort_keys=True, indent=4)\n",
    "print (type(j))\n",
    "print(j)"
   ]
  },
  {
   "cell_type": "code",
   "execution_count": 21,
   "metadata": {},
   "outputs": [
    {
     "name": "stdout",
     "output_type": "stream",
     "text": [
      "<class 'str'>\n",
      "<class 'str'>\n",
      "\"100.01\"\n"
     ]
    }
   ],
   "source": [
    "import json\n",
    "#string to string\n",
    "lst='100.01'\n",
    "print(type(lst))\n",
    "j = json.dumps(lst, sort_keys=True, indent=4)\n",
    "print (type(j))\n",
    "print(j)"
   ]
  },
  {
   "cell_type": "code",
   "execution_count": 22,
   "metadata": {},
   "outputs": [
    {
     "name": "stdout",
     "output_type": "stream",
     "text": [
      "<class 'bool'>\n",
      "<class 'str'>\n",
      "true\n"
     ]
    }
   ],
   "source": [
    "import json\n",
    "#bool to bool\n",
    "lst=True\n",
    "print(type(lst))\n",
    "j = json.dumps(lst, sort_keys=True, indent=4)\n",
    "print (type(j))\n",
    "print(j)"
   ]
  },
  {
   "cell_type": "code",
   "execution_count": 40,
   "metadata": {},
   "outputs": [
    {
     "name": "stdout",
     "output_type": "stream",
     "text": [
      "Hello my name is Tej\n",
      "<class 'str'>\n",
      "{\"py/object\": \"__main__.Person\", \"age\": 1, \"name\": \"Tej\"}\n",
      "<class '__main__.Person'>\n",
      "<__main__.Person object at 0x10ba205f8>\n",
      "Tej\n"
     ]
    }
   ],
   "source": [
    "import jsonpickle\n",
    "    \n",
    "class Person:\n",
    "\n",
    "    def __init__(self):pass\n",
    "        #self.name=''\n",
    "        \n",
    "    def __init__(mysillyobject, name, age):\n",
    "        mysillyobject.name = name\n",
    "        mysillyobject.age = age\n",
    "    \n",
    "    def myfunc(abc):\n",
    "        print(\"Hello my name is \" + abc.name)\n",
    "\n",
    "lst = Person(\"Tej\", 1)\n",
    "lst.myfunc()\n",
    "frozen = jsonpickle.encode(lst)\n",
    "print(type(frozen))\n",
    "print(frozen)\n",
    "thawed = jsonpickle.decode(frozen)\n",
    "print (type(thawed))\n",
    "print(thawed)\n",
    "assert lst.name == thawed.name\n",
    "print(thawed.name)"
   ]
  },
  {
   "cell_type": "code",
   "execution_count": 43,
   "metadata": {},
   "outputs": [
    {
     "name": "stdout",
     "output_type": "stream",
     "text": [
      "{\n",
      "  \"name\": \"Tej\",\n",
      "  \"age\": 1\n",
      "}\n"
     ]
    }
   ],
   "source": [
    "#using Serializer\n",
    "\n",
    "class Serializer(object):\n",
    "    @staticmethod\n",
    "    def serialize(obj):\n",
    "        def check(o):\n",
    "            for k, v in o.__dict__.items():\n",
    "                try:\n",
    "                    _ = json.dumps(v)\n",
    "                    o.__dict__[k] = v\n",
    "                except TypeError:\n",
    "                    o.__dict__[k] = str(v)\n",
    "            return o\n",
    "        return json.dumps(check(obj).__dict__, indent=2)\n",
    "    \n",
    "s = Serializer.serialize(lst)\n",
    "print(s)"
   ]
  },
  {
   "cell_type": "markdown",
   "metadata": {},
   "source": [
    "### Using default method \n",
    "\n",
    "https://pythontips.com/2013/08/08/storing-and-loading-data-with-json/"
   ]
  },
  {
   "cell_type": "code",
   "execution_count": 46,
   "metadata": {},
   "outputs": [
    {
     "name": "stdout",
     "output_type": "stream",
     "text": [
      "[\"Tiger\", \"Panther\", \"Toad\"]\n",
      "{'name': 'Tej', 'age': 1}\n",
      "{\"name\": \"Tej\", \"age\": 1}\n"
     ]
    }
   ],
   "source": [
    "#for sets\n",
    "def jdefault(o):\n",
    "    if isinstance(o, set):\n",
    "        return list(o)\n",
    "    return o.__dict__\n",
    "\n",
    "pets = set([u'Tiger', u'Panther', u'Toad'])\n",
    "print(json.dumps(pets, default=jdefault))\n",
    "# outputs: [\"Tiger\", \"Panther\", \"Toad\"]\n",
    "print(lst.__dict__)\n",
    "print(json.dumps(lst, default=jdefault))"
   ]
  },
  {
   "cell_type": "code",
   "execution_count": null,
   "metadata": {},
   "outputs": [],
   "source": []
  }
 ],
 "metadata": {
  "kernelspec": {
   "display_name": "Python 3",
   "language": "python",
   "name": "python3"
  },
  "language_info": {
   "codemirror_mode": {
    "name": "ipython",
    "version": 3
   },
   "file_extension": ".py",
   "mimetype": "text/x-python",
   "name": "python",
   "nbconvert_exporter": "python",
   "pygments_lexer": "ipython3",
   "version": "3.6.6"
  }
 },
 "nbformat": 4,
 "nbformat_minor": 2
}
