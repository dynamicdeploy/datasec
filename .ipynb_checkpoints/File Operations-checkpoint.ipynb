{
 "cells": [
  {
   "cell_type": "markdown",
   "metadata": {},
   "source": [
    "## Writing to a file\n",
    "\n",
    "### Open file options for writing\n",
    "\n",
    "- \"a\" - Append - will append to the end of the file. Creates a file if the specified file does not exist\n",
    "\n",
    "- \"w\" - Write - will overwrite any existing content. create a file if the specified file does not exist\n",
    "\n",
    "- \"x\" - Create - will create a file, returns an error if the file exist\n",
    "\n",
    "For more OS-level file operations, visit here - https://docs.python.org/3/library/os.html"
   ]
  },
  {
   "cell_type": "code",
   "execution_count": 35,
   "metadata": {},
   "outputs": [],
   "source": [
    "#open for overwriting\n",
    "fh = open(\"test.txt\", \"w\") \n",
    "fh.write(\"I am going to eat fat. I am going to be thin.\") \n",
    "fh.write(\"That's my dream.\") \n",
    "fh.close() "
   ]
  },
  {
   "cell_type": "code",
   "execution_count": 36,
   "metadata": {},
   "outputs": [],
   "source": [
    "#open for appending\n",
    "fh = open(\"test.txt\", \"a\") \n",
    "fh.write(\"I am going to eat fat. I am going to be thin.\") \n",
    "fh.write(\"That's my dream.\") \n",
    "fh.close() "
   ]
  },
  {
   "cell_type": "code",
   "execution_count": 37,
   "metadata": {},
   "outputs": [],
   "source": [
    "#write multiple lines\n",
    "fh = open(\"test.txt\", \"a\")  \n",
    "lines_of_text = [\"I am going to eat fat.\", \"I am going to be thin.\", \"That's my dream\", \"...and so on and so forth\"] \n",
    "fh.writelines(lines_of_text) \n",
    "fh.close() "
   ]
  },
  {
   "cell_type": "markdown",
   "metadata": {},
   "source": [
    "## Using the With Statement"
   ]
  },
  {
   "cell_type": "code",
   "execution_count": 38,
   "metadata": {},
   "outputs": [],
   "source": [
    "with open(\"test.txt\", \"a\") as fh:\n",
    "    fh.write(\"I am going to eat fat. I am going to be thin.\") \n",
    "    fh.write(\"That's my dream.\")\n",
    "    lines_of_text = [\"I am going to eat fat.\", \"I am going to be thin.\", \"That's my dream\", \"...and so on and so forth\"] \n",
    "    fh.writelines(lines_of_text) "
   ]
  },
  {
   "cell_type": "markdown",
   "metadata": {},
   "source": [
    "## Reading file\n",
    "\n",
    "### Open file options\n",
    "\n",
    "- \"r\" - Read - Default value. Opens a file for reading, error if the file does not exist\n",
    "\n",
    "- \"a\" - Append - Opens a file for appending, creates the file if it does not exist\n",
    "\n",
    "- \"w\" - Write - Opens a file for writing, creates the file if it does not exist\n",
    "\n",
    "- \"x\" - Create - Creates the specified file, returns an error if the file exists\n",
    "\n",
    "- \"t\" - Text - Default value. Text mode\n",
    "\n",
    "- \"b\" - Binary - Binary mode (e.g. images)"
   ]
  },
  {
   "cell_type": "code",
   "execution_count": 39,
   "metadata": {},
   "outputs": [
    {
     "name": "stdout",
     "output_type": "stream",
     "text": [
      "<class 'str'>\n",
      "I am going to eat fat. I am going to be thin.That's my dream.I am going to eat fat. I am going to be thin.That's my dream.I am going to eat fat.I am going to be thin.That's my dream...and so on and so forthI am going to eat fat. I am going to be thin.That's my dream.I am going to eat fat.I am going to be thin.That's my dream...and so on and so forth\n"
     ]
    }
   ],
   "source": [
    "#read the file in read and text mode\n",
    "fh = open(\"test.txt\", \"rt\") \n",
    "#read the entire file as one string\n",
    "txt = fh.read()\n",
    "print(type(txt))\n",
    "print (txt)"
   ]
  },
  {
   "cell_type": "code",
   "execution_count": 40,
   "metadata": {},
   "outputs": [
    {
     "name": "stdout",
     "output_type": "stream",
     "text": [
      "<class 'list'>\n",
      "[\"I am going to eat fat. I am going to be thin.That's my dream.I am going to eat fat. I am going to be thin.That's my dream.I am going to eat fat.I am going to be thin.That's my dream...and so on and so forthI am going to eat fat. I am going to be thin.That's my dream.I am going to eat fat.I am going to be thin.That's my dream...and so on and so forth\"]\n"
     ]
    }
   ],
   "source": [
    "#read the file in read and text mode\n",
    "fh = open(\"test.txt\", \"rt\") \n",
    "#read the entire file as one list\n",
    "txt = fh.readlines()\n",
    "print(type(txt))\n",
    "print (txt)"
   ]
  },
  {
   "cell_type": "markdown",
   "metadata": {},
   "source": [
    "## Using the With Statement"
   ]
  },
  {
   "cell_type": "code",
   "execution_count": 41,
   "metadata": {},
   "outputs": [
    {
     "name": "stdout",
     "output_type": "stream",
     "text": [
      "I am going to eat fat. I am going to be thin.That's my dream.I am going to eat fat. I am going to be thin.That's my dream.I am going to eat fat.I am going to be thin.That's my dream...and so on and so forthI am going to eat fat. I am going to be thin.That's my dream.I am going to eat fat.I am going to be thin.That's my dream...and so on and so forth\n",
      "Line count:1\n",
      "['I', 'am', 'going', 'to', 'eat', 'fat.', 'I', 'am', 'going', 'to', 'be', \"thin.That's\", 'my', 'dream.I', 'am', 'going', 'to', 'eat', 'fat.', 'I', 'am', 'going', 'to', 'be', \"thin.That's\", 'my', 'dream.I', 'am', 'going', 'to', 'eat', 'fat.I', 'am', 'going', 'to', 'be', \"thin.That's\", 'my', 'dream...and', 'so', 'on', 'and', 'so', 'forthI', 'am', 'going', 'to', 'eat', 'fat.', 'I', 'am', 'going', 'to', 'be', \"thin.That's\", 'my', 'dream.I', 'am', 'going', 'to', 'eat', 'fat.I', 'am', 'going', 'to', 'be', \"thin.That's\", 'my', 'dream...and', 'so', 'on', 'and', 'so', 'forth']\n",
      "Word count:74\n",
      "['', 'a', 'goin', 't', 'ea', 'fat', '', 'a', 'goin', 't', 'b', \"thin.That'\", 'm', 'dream.', 'a', 'goin', 't', 'ea', 'fat', '', 'a', 'goin', 't', 'b', \"thin.That'\", 'm', 'dream.', 'a', 'goin', 't', 'ea', 'fat.', 'a', 'goin', 't', 'b', \"thin.That'\", 'm', 'dream...an', 's', 'o', 'an', 's', 'forth', 'a', 'goin', 't', 'ea', 'fat', '', 'a', 'goin', 't', 'b', \"thin.That'\", 'm', 'dream.', 'a', 'goin', 't', 'ea', 'fat.', 'a', 'goin', 't', 'b', \"thin.That'\", 'm', 'dream...an', 's', 'o', 'an', 's', 'forth']\n",
      "Word count:74\n"
     ]
    }
   ],
   "source": [
    "import re\n",
    "\n",
    "with open(\"test.txt\") as f:\n",
    "    counter=0\n",
    "    for line in f:\n",
    "        print (line)\n",
    "        counter=counter+1\n",
    "        print(\"Line count:{0}\".format(str(counter)))\n",
    "        #split the words\n",
    "        words = line.split()\n",
    "        print(words)\n",
    "        print(\"Word count:{0}\".format(len(words)))\n",
    "        #split using multiple delimiters\n",
    "        words = re.split(\". |; |, |\\*|\\n\",line)\n",
    "        print(words)\n",
    "        print(\"Word count:{0}\".format(len(words)))\n",
    "    "
   ]
  },
  {
   "cell_type": "markdown",
   "metadata": {},
   "source": [
    "### Read only a few characters from a file"
   ]
  },
  {
   "cell_type": "code",
   "execution_count": 42,
   "metadata": {},
   "outputs": [
    {
     "name": "stdout",
     "output_type": "stream",
     "text": [
      "I am going to eat fat\n"
     ]
    }
   ],
   "source": [
    "with open(\"test.txt\") as f:\n",
    "    print(f.read(21))"
   ]
  },
  {
   "cell_type": "markdown",
   "metadata": {},
   "source": [
    "### Read only one line"
   ]
  },
  {
   "cell_type": "code",
   "execution_count": 43,
   "metadata": {},
   "outputs": [
    {
     "name": "stdout",
     "output_type": "stream",
     "text": [
      "I am going to eat fat. I am going to be thin.That's my dream.I am going to eat fat. I am going to be thin.That's my dream.I am going to eat fat.I am going to be thin.That's my dream...and so on and so forthI am going to eat fat. I am going to be thin.That's my dream.I am going to eat fat.I am going to be thin.That's my dream...and so on and so forth\n"
     ]
    }
   ],
   "source": [
    "with open(\"test.txt\") as f:\n",
    "    print(f.readline())"
   ]
  },
  {
   "cell_type": "markdown",
   "metadata": {},
   "source": [
    "## Delete files"
   ]
  },
  {
   "cell_type": "code",
   "execution_count": 33,
   "metadata": {},
   "outputs": [],
   "source": [
    "import os\n",
    "if os.path.exists(\"test.txt\"):\n",
    "    os.remove(\"test.txt\")\n",
    "else:\n",
    "    print(\"The file does not exist\")"
   ]
  },
  {
   "cell_type": "markdown",
   "metadata": {},
   "source": [
    "## Create folders"
   ]
  },
  {
   "cell_type": "code",
   "execution_count": 49,
   "metadata": {},
   "outputs": [],
   "source": [
    "def createfolder(directory):\n",
    "    try:\n",
    "        #if not os.path.exists(directory):\n",
    "            #os.makedirs(directory)\n",
    "            os.makedirs(directory, exist_ok = True)\n",
    "    except OSError:\n",
    "        print ('Error: Creating directory. ' +  directory)\n",
    "        \n",
    "createfolder('testfolder')"
   ]
  },
  {
   "cell_type": "markdown",
   "metadata": {},
   "source": [
    "## Delete folders"
   ]
  },
  {
   "cell_type": "code",
   "execution_count": 47,
   "metadata": {},
   "outputs": [
    {
     "ename": "FileNotFoundError",
     "evalue": "[Errno 2] No such file or directory: 'testfolder'",
     "output_type": "error",
     "traceback": [
      "\u001b[0;31m---------------------------------------------------------------------------\u001b[0m",
      "\u001b[0;31mFileNotFoundError\u001b[0m                         Traceback (most recent call last)",
      "\u001b[0;32m<ipython-input-47-52abd0d9b15a>\u001b[0m in \u001b[0;36m<module>\u001b[0;34m()\u001b[0m\n\u001b[1;32m      1\u001b[0m \u001b[0;32mimport\u001b[0m \u001b[0mos\u001b[0m\u001b[0;34m\u001b[0m\u001b[0m\n\u001b[1;32m      2\u001b[0m \u001b[0;34m\u001b[0m\u001b[0m\n\u001b[0;32m----> 3\u001b[0;31m \u001b[0mos\u001b[0m\u001b[0;34m.\u001b[0m\u001b[0mrmdir\u001b[0m\u001b[0;34m(\u001b[0m\u001b[0;34m\"testfolder\"\u001b[0m\u001b[0;34m)\u001b[0m\u001b[0;34m\u001b[0m\u001b[0m\n\u001b[0m",
      "\u001b[0;31mFileNotFoundError\u001b[0m: [Errno 2] No such file or directory: 'testfolder'"
     ]
    }
   ],
   "source": [
    "import os\n",
    "\n",
    "os.rmdir(\"testfolder\")"
   ]
  },
  {
   "cell_type": "markdown",
   "metadata": {},
   "source": [
    "## Using os.stat\n",
    "\n",
    "https://docs.python.org/2/library/os.html#os.stat"
   ]
  },
  {
   "cell_type": "code",
   "execution_count": 51,
   "metadata": {},
   "outputs": [
    {
     "name": "stdout",
     "output_type": "stream",
     "text": [
      "os.stat_result(st_mode=33188, st_ino=4302837098, st_dev=16777220, st_nlink=1, st_uid=502, st_gid=20, st_size=351, st_atime=1535637990, st_mtime=1535637959, st_ctime=1535637959)\n",
      "Size:351 bytes\n"
     ]
    }
   ],
   "source": [
    "import os\n",
    "\n",
    "s = os.stat(\"test.txt\")\n",
    "print(s)\n",
    "print(\"Size:{0} bytes\".format(s.st_size))"
   ]
  },
  {
   "cell_type": "code",
   "execution_count": null,
   "metadata": {},
   "outputs": [],
   "source": []
  }
 ],
 "metadata": {
  "kernelspec": {
   "display_name": "Python 3",
   "language": "python",
   "name": "python3"
  },
  "language_info": {
   "codemirror_mode": {
    "name": "ipython",
    "version": 3
   },
   "file_extension": ".py",
   "mimetype": "text/x-python",
   "name": "python",
   "nbconvert_exporter": "python",
   "pygments_lexer": "ipython3",
   "version": "3.6.6"
  }
 },
 "nbformat": 4,
 "nbformat_minor": 2
}
